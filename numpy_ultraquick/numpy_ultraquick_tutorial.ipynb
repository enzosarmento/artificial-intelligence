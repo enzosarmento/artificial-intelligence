{
 "cells": [
  {
   "cell_type": "code",
   "id": "initial_id",
   "metadata": {
    "collapsed": true,
    "ExecuteTime": {
     "end_time": "2025-08-04T19:05:42.671483Z",
     "start_time": "2025-08-04T19:05:42.600700Z"
    }
   },
   "source": "import numpy as np",
   "outputs": [],
   "execution_count": 1
  },
  {
   "metadata": {},
   "cell_type": "markdown",
   "source": "### Criando arrays com números específicos",
   "id": "7cf45adb615e25bd"
  },
  {
   "metadata": {
    "ExecuteTime": {
     "end_time": "2025-08-04T19:05:42.698253Z",
     "start_time": "2025-08-04T19:05:42.694669Z"
    }
   },
   "cell_type": "code",
   "source": [
    "one_dimensional_array = np.array([1.2, 2.4, 3.5, 4.7, 6.1, 7.2, 8.3, 9.5])\n",
    "print(one_dimensional_array)"
   ],
   "id": "84d7766e13e1758e",
   "outputs": [
    {
     "name": "stdout",
     "output_type": "stream",
     "text": [
      "[1.2 2.4 3.5 4.7 6.1 7.2 8.3 9.5]\n"
     ]
    }
   ],
   "execution_count": 2
  },
  {
   "metadata": {},
   "cell_type": "markdown",
   "source": "Você pode também utilizar np.array para criar array de duas dimensões. Para criar um array bidimensional, você deve passar uma lista de listas.",
   "id": "32db1fbad04ea0a9"
  },
  {
   "metadata": {
    "ExecuteTime": {
     "end_time": "2025-08-04T19:05:42.752942Z",
     "start_time": "2025-08-04T19:05:42.750264Z"
    }
   },
   "cell_type": "code",
   "source": [
    "two_dimensional_array = np.array([[6, 5], [11, 7], [4, 8]])\n",
    "print(two_dimensional_array)"
   ],
   "id": "dc45230b7e40fe01",
   "outputs": [
    {
     "name": "stdout",
     "output_type": "stream",
     "text": [
      "[[ 6  5]\n",
      " [11  7]\n",
      " [ 4  8]]\n"
     ]
    }
   ],
   "execution_count": 3
  },
  {
   "metadata": {},
   "cell_type": "markdown",
   "source": [
    "### Criando array com sequências de números\n",
    "Você pode preencher um array com uma sequência de número:"
   ],
   "id": "96343d8573a60259"
  },
  {
   "metadata": {
    "ExecuteTime": {
     "end_time": "2025-08-04T19:05:42.809883Z",
     "start_time": "2025-08-04T19:05:42.806639Z"
    }
   },
   "cell_type": "code",
   "source": [
    "sequence_of_integers = np.arange(5, 12)\n",
    "print(sequence_of_integers)"
   ],
   "id": "6d41ccd84ed4b280",
   "outputs": [
    {
     "name": "stdout",
     "output_type": "stream",
     "text": [
      "[ 5  6  7  8  9 10 11]\n"
     ]
    }
   ],
   "execution_count": 4
  },
  {
   "metadata": {},
   "cell_type": "markdown",
   "source": "O np.arange gera uma sequência que inclui o primeiro valor da sequência (5), mas para antes do último valor da sequência",
   "id": "a3ed49250e0b67ff"
  },
  {
   "metadata": {},
   "cell_type": "markdown",
   "source": [
    "### Preencher arrays com números aleatórios\n",
    "Numpy possui várias funções para preencher arrays com números aleatórios. Por exemplo, np.random.randint gera inteiros aleatórios entre um valor menor e um valor maior. A chamada seguinte preenche um array com 6 elementos com inteiros entre 50 e 100."
   ],
   "id": "efad98c539ffb8d3"
  },
  {
   "metadata": {
    "ExecuteTime": {
     "end_time": "2025-08-04T19:05:42.871242Z",
     "start_time": "2025-08-04T19:05:42.862116Z"
    }
   },
   "cell_type": "code",
   "source": [
    "random_integers_between_50_and_100 = np.random.randint(low=50, high=100, size=6)\n",
    "print(random_integers_between_50_and_100)"
   ],
   "id": "2a38b2249e0fbe6e",
   "outputs": [
    {
     "name": "stdout",
     "output_type": "stream",
     "text": [
      "[85 67 55 51 84 64]\n"
     ]
    }
   ],
   "execution_count": 5
  },
  {
   "metadata": {},
   "cell_type": "markdown",
   "source": "Para criar valores de ponto flutuante aleatórios entre 0 e 1, chame np.random.random. Por exemplo:",
   "id": "24093607abf78fac"
  },
  {
   "metadata": {
    "ExecuteTime": {
     "end_time": "2025-08-04T19:05:42.916783Z",
     "start_time": "2025-08-04T19:05:42.914180Z"
    }
   },
   "cell_type": "code",
   "source": [
    "random_floats_between_0_and_1 = np.random.random(6)\n",
    "print(random_floats_between_0_and_1)"
   ],
   "id": "fc9d533b2d6ab321",
   "outputs": [
    {
     "name": "stdout",
     "output_type": "stream",
     "text": [
      "[0.1112354  0.69646959 0.11458402 0.20345288 0.43428959 0.70921226]\n"
     ]
    }
   ],
   "execution_count": 6
  },
  {
   "metadata": {},
   "cell_type": "markdown",
   "source": [
    "### Operações matemáticas no Numpy\n",
    "Se você quer adicionar ou subtrair dois arrays, na álgebra linear requer que os dois operandos tenham as mesmas dimensões. Além disso, se você quer multiplicar dois arrays, na álgebra linear impõe uma regra restrita sobre as dimensões dos operandos. Felizmente, o Numpy utiliza um truque chamando broadcasting para contornar essas restrições. O broadcasting permite que você realize operações matemáticas em arrays de diferentes dimensões. Por exemplo, a operação seguinte utiliza broadcasting para adicionar 2.0 a cada elemento do código da célula anterior."
   ],
   "id": "9d9a72100d636020"
  },
  {
   "metadata": {
    "ExecuteTime": {
     "end_time": "2025-08-04T19:05:42.972859Z",
     "start_time": "2025-08-04T19:05:42.969486Z"
    }
   },
   "cell_type": "code",
   "source": [
    "random_floats_between_2_and_3 = random_floats_between_0_and_1 + 2.0\n",
    "print(random_floats_between_2_and_3)"
   ],
   "id": "42fa7a3c86ef8b13",
   "outputs": [
    {
     "name": "stdout",
     "output_type": "stream",
     "text": [
      "[2.1112354  2.69646959 2.11458402 2.20345288 2.43428959 2.70921226]\n"
     ]
    }
   ],
   "execution_count": 7
  },
  {
   "metadata": {},
   "cell_type": "markdown",
   "source": "A operação seguinte também utiliza broadcasting para multiplicar cada elemento do array por 3.",
   "id": "618f0031eaae7816"
  },
  {
   "metadata": {
    "ExecuteTime": {
     "end_time": "2025-08-04T19:05:43.023750Z",
     "start_time": "2025-08-04T19:05:43.021368Z"
    }
   },
   "cell_type": "code",
   "source": [
    "random_integer_between_150_and_300 = random_integers_between_50_and_100 * 3\n",
    "print(random_integer_between_150_and_300)"
   ],
   "id": "647fbe05e8d7bcd",
   "outputs": [
    {
     "name": "stdout",
     "output_type": "stream",
     "text": [
      "[255 201 165 153 252 192]\n"
     ]
    }
   ],
   "execution_count": 8
  },
  {
   "metadata": {},
   "cell_type": "markdown",
   "source": [
    "### Tarefa 1: Crie um conjunto de dados linear\n",
    "O seu objetivo é criar um simples conjunto de dados consistindo de uma única característica e um rótulo a seguir:\n",
    "1. Atribua uma sequência de inteiros de 6 até 20 (inclusive) com Numpy array chamado feature.\n",
    "2. Atribua 15 valores a um Numpy array chamado label de modo que:\n",
    "```\n",
    "label = (3)(feature) + 4\n",
    "```\n",
    "Por exemplo, o primeiro valor para `label` deve ser:\n",
    "```\n",
    "label = (3)(6) + 4 = 22\n",
    "```"
   ],
   "id": "dd4f93a938d445ec"
  },
  {
   "metadata": {
    "ExecuteTime": {
     "end_time": "2025-08-04T19:05:43.076831Z",
     "start_time": "2025-08-04T19:05:43.073120Z"
    }
   },
   "cell_type": "code",
   "source": [
    "feature = np.arange(6, 21)\n",
    "print(feature)\n",
    "label = 3 * feature + 4\n",
    "print(label)"
   ],
   "id": "b0d662b07d0a4f9b",
   "outputs": [
    {
     "name": "stdout",
     "output_type": "stream",
     "text": [
      "[ 6  7  8  9 10 11 12 13 14 15 16 17 18 19 20]\n",
      "[22 25 28 31 34 37 40 43 46 49 52 55 58 61 64]\n"
     ]
    }
   ],
   "execution_count": 9
  },
  {
   "metadata": {},
   "cell_type": "markdown",
   "source": [
    "### Tarefa 2: Adicione ruído ao conjunto de dados\n",
    "Faça seu conjunto de dados mais realista, adicione um pouco de ruído aleatório para cada elemento do `label` array que você criou na tarefa 1. Para ser mais preciso, modifique cada valor do `label` adicionando um valor de ponto flutuante aleatório entre -2 e 2. Não confie no broadcasting para fazer isso. Ao invés disso, crie um array de ruído tendo a mesma dimensão que o `label`."
   ],
   "id": "36f3e389ee899993"
  },
  {
   "metadata": {
    "ExecuteTime": {
     "end_time": "2025-08-04T19:10:13.081399Z",
     "start_time": "2025-08-04T19:10:13.077984Z"
    }
   },
   "cell_type": "code",
   "source": [
    "noise = np.random.random(size=label.shape) * 4 - 2\n",
    "print(noise)\n",
    "label = label + noise\n",
    "print(label)"
   ],
   "id": "c923317ac37db4e9",
   "outputs": [
    {
     "name": "stdout",
     "output_type": "stream",
     "text": [
      "[ 1.4141668   1.31987542 -0.7435896  -1.89939649  0.86694942  1.20703077\n",
      "  1.71288032 -1.18817104  0.02115058 -1.65984429 -1.46614819 -1.15841295\n",
      " -1.55243513 -1.32816692 -1.62403608]\n",
      "[23.4141668  26.31987542 27.2564104  29.10060351 34.86694942 38.20703077\n",
      " 41.71288032 41.81182896 46.02115058 47.34015571 50.53385181 53.84158705\n",
      " 56.44756487 59.67183308 62.37596392]\n"
     ]
    }
   ],
   "execution_count": 13
  }
 ],
 "metadata": {
  "kernelspec": {
   "display_name": "Python 3",
   "language": "python",
   "name": "python3"
  },
  "language_info": {
   "codemirror_mode": {
    "name": "ipython",
    "version": 2
   },
   "file_extension": ".py",
   "mimetype": "text/x-python",
   "name": "python",
   "nbconvert_exporter": "python",
   "pygments_lexer": "ipython2",
   "version": "2.7.6"
  }
 },
 "nbformat": 4,
 "nbformat_minor": 5
}
