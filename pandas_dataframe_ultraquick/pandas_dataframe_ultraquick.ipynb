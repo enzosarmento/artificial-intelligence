{
 "cells": [
  {
   "cell_type": "code",
   "execution_count": 1,
   "id": "initial_id",
   "metadata": {
    "ExecuteTime": {
     "end_time": "2025-08-05T18:58:04.793535Z",
     "start_time": "2025-08-05T18:58:03.872601Z"
    },
    "collapsed": true
   },
   "outputs": [],
   "source": [
    "import numpy as np\n",
    "import pandas as pd"
   ]
  },
  {
   "cell_type": "markdown",
   "id": "725ec52a11d54a91",
   "metadata": {},
   "source": [
    "### Criando um DataFrame\n",
    "A célula de código a seguir cria um simples DataFrame contendo 10 células organizadas em:\n",
    "- 5 linhas\n",
    "- 2 colunas, uma chamada temperatura e a outra chamada atividade.\n",
    "A célula de código a seguir instancia um pd.DataFrame class que gera um DataFrame. A classe recebe dois argumentos:\n",
    "- O primeiro argumento provê os dados que irão preencher as 10 células. A chamada np.array gera um array 5x2.\n",
    "- O segundo argumento identifica os nomes das duas colunas."
   ]
  },
  {
   "cell_type": "code",
   "execution_count": 2,
   "id": "6ee0f35c17c343ad",
   "metadata": {
    "ExecuteTime": {
     "end_time": "2025-08-05T18:58:54.264417Z",
     "start_time": "2025-08-05T18:58:54.257923Z"
    }
   },
   "outputs": [
    {
     "name": "stdout",
     "output_type": "stream",
     "text": [
      "   temperature  activity\n",
      "0            0         3\n",
      "1           10         7\n",
      "2           20         9\n",
      "3           30        14\n",
      "4           40        15\n"
     ]
    }
   ],
   "source": [
    "my_data = np.array([[0,3], [10, 7], [20, 9], [30, 14], [40, 15]])\n",
    "\n",
    "my_column_names = ['temperature', 'activity']\n",
    "\n",
    "my_dataframe = pd.DataFrame(data=my_data, columns=my_column_names)\n",
    "\n",
    "print(my_dataframe)"
   ]
  },
  {
   "cell_type": "markdown",
   "id": "9eae08da8dc46029",
   "metadata": {},
   "source": [
    "### Adicionando uma nova columa ao DataFrame\n",
    "Você pode adicionar uma nova coluna em um DataFrame existente apenas atribuindo valores a uma nova coluna. Por exemplo, o código a seguir cria uma terceira coluna chamada `adjusted` em `my_dataframe`:"
   ]
  },
  {
   "cell_type": "code",
   "execution_count": 3,
   "id": "bd21152bed1feb55",
   "metadata": {
    "ExecuteTime": {
     "end_time": "2025-08-05T19:01:54.176498Z",
     "start_time": "2025-08-05T19:01:54.171863Z"
    }
   },
   "outputs": [
    {
     "name": "stdout",
     "output_type": "stream",
     "text": [
      "   temperature  activity  adjusted\n",
      "0            0         3         5\n",
      "1           10         7         9\n",
      "2           20         9        11\n",
      "3           30        14        16\n",
      "4           40        15        17\n"
     ]
    }
   ],
   "source": [
    "my_dataframe['adjusted'] = my_dataframe['activity'] + 2\n",
    "\n",
    "print(my_dataframe)"
   ]
  },
  {
   "cell_type": "markdown",
   "id": "8759936e462fc461",
   "metadata": {},
   "source": [
    "### Especifindo um subconjunto de um DataFrame\n",
    "O Pandas provê multiplas maneiras de isolar linhas, colunas, fatias ou células individuais de um DataFrame."
   ]
  },
  {
   "cell_type": "code",
   "execution_count": 4,
   "id": "fd6b8e65a29df0ce",
   "metadata": {
    "ExecuteTime": {
     "end_time": "2025-08-05T19:06:05.784269Z",
     "start_time": "2025-08-05T19:06:05.779214Z"
    }
   },
   "outputs": [
    {
     "name": "stdout",
     "output_type": "stream",
     "text": [
      "Rows #0, #1, and #2:\n",
      "   temperature  activity  adjusted\n",
      "0            0         3         5\n",
      "1           10         7         9\n",
      "2           20         9        11\n",
      "Row #2:\n",
      "temperature    20\n",
      "activity        9\n",
      "adjusted       11\n",
      "Name: 2, dtype: int64\n",
      "Column 'temperature':\n",
      "0     0\n",
      "1    10\n",
      "2    20\n",
      "3    30\n",
      "4    40\n",
      "Name: temperature, dtype: int64\n"
     ]
    }
   ],
   "source": [
    "print(\"Rows #0, #1, and #2:\")\n",
    "print(my_dataframe.head(3))\n",
    "\n",
    "print(\"Row #2:\")\n",
    "print(my_dataframe.iloc[2])\n",
    "\n",
    "print(\"Column 'temperature':\")\n",
    "print(my_dataframe['temperature'])"
   ]
  },
  {
   "cell_type": "markdown",
   "id": "fba60e334d620d11",
   "metadata": {},
   "source": [
    "### Tarefa 1: Crie um DataFrame\n",
    "1. Crie um pandas DataFrame 3x4 (3 linhas e 4 colunas) onde as colunas serão chamadas `Eleanor`, `Chidi`, `Tahani` e `Jason`. Preencha cada uma das 12 células com um número inteiro entre 0 e 100, inclusive.\n",
    "2. A saída:\n",
    "    - Todo o DataFrame\n",
    "    - O valor da célula da linha #1 da coluna `Eleanor`\n",
    "3. Crie uma quinta coluna chamada `Janet`, preencha linha por linha com a soma dos valores de `Tahani` e `Jason`."
   ]
  },
  {
   "cell_type": "code",
   "execution_count": null,
   "id": "17adcfba88bd80bf",
   "metadata": {},
   "outputs": [
    {
     "name": "stdout",
     "output_type": "stream",
     "text": [
      "   Eleanor  Chidi  Tahani  Jason\n",
      "0       96     41      65     41\n",
      "1       60     54      54     89\n",
      "2       32     17      18     37\n",
      "\n",
      "Column 'Eleanor', row #1\n",
      "60\n",
      "   Eleanor  Chidi  Tahani  Jason  Janet\n",
      "0       96     41      65     41    106\n",
      "1       60     54      54     89    143\n",
      "2       32     17      18     37     55\n"
     ]
    }
   ],
   "source": [
    "# Como escrevi inicialmente, mas existe um jeito mais fácil sem list comprehension\n",
    "#my_data_task = [np.random.randint(0, 101, 4) for _ in range(3)]\n",
    "\n",
    "my_data_task = np.random.randint(low=0, high=101, size=(3, 4))\n",
    "\n",
    "my_column_names_task = ['Eleanor', 'Chidi', 'Tahani', 'Jason']\n",
    "\n",
    "my_dataframe_task = pd.DataFrame(data=my_data_task, columns=my_column_names_task)\n",
    "print(my_dataframe_task)\n",
    "\n",
    "print()\n",
    "print(\"Column 'Eleanor', row #1\")\n",
    "print(my_dataframe_task.Eleanor.get(1))\n",
    "\n",
    "my_dataframe_task['Janet'] = my_dataframe_task['Tahani'] + my_dataframe_task['Jason']\n",
    "print(my_dataframe_task)"
   ]
  },
  {
   "metadata": {},
   "cell_type": "markdown",
   "source": [
    "### Copiando um DataFrame\n",
    "Existem duas diferentes maneiras de duplicar um DataFrame no Pandas:\n",
    "- Por referência. Se você atribui um DataFrame a uma nova variável, qualquer alteração no DataFrame original irá refletir na nova variável.\n",
    "- Por cópia. Se você chamar o método `pd.DataFrame.copy`, você cria uma cópia independente do DataFrame original. Qualquer alteração no DataFrame original não irá refletir na cópia."
   ],
   "id": "319a32493f5bbe51"
  },
  {
   "metadata": {},
   "cell_type": "code",
   "outputs": [],
   "execution_count": null,
   "source": [
    "print(\"experimentando cópia por referência:\")\n",
    "my_dataframe_task_ref = my_dataframe_task\n"
   ],
   "id": "ef73e8e0c2490e2b"
  }
 ],
 "metadata": {
  "kernelspec": {
   "display_name": ".venv",
   "language": "python",
   "name": "python3"
  },
  "language_info": {
   "codemirror_mode": {
    "name": "ipython",
    "version": 3
   },
   "file_extension": ".py",
   "mimetype": "text/x-python",
   "name": "python",
   "nbconvert_exporter": "python",
   "pygments_lexer": "ipython3",
   "version": "3.10.12"
  }
 },
 "nbformat": 4,
 "nbformat_minor": 5
}
