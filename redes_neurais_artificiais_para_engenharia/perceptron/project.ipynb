{
 "cells": [
  {
   "metadata": {},
   "cell_type": "markdown",
   "source": "### 3.6 - Projeto Prático",
   "id": "112f80386aeb221f"
  },
  {
   "metadata": {
    "ExecuteTime": {
     "end_time": "2025-08-13T15:12:08.614020Z",
     "start_time": "2025-08-13T15:12:08.611247Z"
    }
   },
   "cell_type": "code",
   "source": [
    "import numpy as np\n",
    "import pandas as pd\n",
    "from Perceptron import Perceptron\n",
    "\n",
    "# Para manter os dados consistentes, criei uma seed para sempre ter os mesmos pesos quando executado.\n",
    "rng = np.random.default_rng(42)"
   ],
   "id": "e2e93d4a7962352a",
   "outputs": [],
   "execution_count": 14
  },
  {
   "metadata": {
    "ExecuteTime": {
     "end_time": "2025-08-13T15:12:10.305021Z",
     "start_time": "2025-08-13T15:12:10.296799Z"
    }
   },
   "cell_type": "code",
   "source": [
    "# Importando a tabela do Apêndice I\n",
    "# A tabela contém os dados de treinamento do Perceptron\n",
    "dataframe = pd.read_csv('../data/tabela_apendice_i.csv', sep=',')\n",
    "dataframe.head()"
   ],
   "id": "a62444377e962b",
   "outputs": [
    {
     "data": {
      "text/plain": [
       "       x1      x2       x3    d\n",
       "0 -0.6508  0.1097   4.0009 -1.0\n",
       "1 -1.4492  0.8896   4.4005 -1.0\n",
       "2  2.0850  0.6876  12.0710 -1.0\n",
       "3  0.2626  1.1476   7.7985  1.0\n",
       "4  0.6418  1.0234   7.0427  1.0"
      ],
      "text/html": [
       "<div>\n",
       "<style scoped>\n",
       "    .dataframe tbody tr th:only-of-type {\n",
       "        vertical-align: middle;\n",
       "    }\n",
       "\n",
       "    .dataframe tbody tr th {\n",
       "        vertical-align: top;\n",
       "    }\n",
       "\n",
       "    .dataframe thead th {\n",
       "        text-align: right;\n",
       "    }\n",
       "</style>\n",
       "<table border=\"1\" class=\"dataframe\">\n",
       "  <thead>\n",
       "    <tr style=\"text-align: right;\">\n",
       "      <th></th>\n",
       "      <th>x1</th>\n",
       "      <th>x2</th>\n",
       "      <th>x3</th>\n",
       "      <th>d</th>\n",
       "    </tr>\n",
       "  </thead>\n",
       "  <tbody>\n",
       "    <tr>\n",
       "      <th>0</th>\n",
       "      <td>-0.6508</td>\n",
       "      <td>0.1097</td>\n",
       "      <td>4.0009</td>\n",
       "      <td>-1.0</td>\n",
       "    </tr>\n",
       "    <tr>\n",
       "      <th>1</th>\n",
       "      <td>-1.4492</td>\n",
       "      <td>0.8896</td>\n",
       "      <td>4.4005</td>\n",
       "      <td>-1.0</td>\n",
       "    </tr>\n",
       "    <tr>\n",
       "      <th>2</th>\n",
       "      <td>2.0850</td>\n",
       "      <td>0.6876</td>\n",
       "      <td>12.0710</td>\n",
       "      <td>-1.0</td>\n",
       "    </tr>\n",
       "    <tr>\n",
       "      <th>3</th>\n",
       "      <td>0.2626</td>\n",
       "      <td>1.1476</td>\n",
       "      <td>7.7985</td>\n",
       "      <td>1.0</td>\n",
       "    </tr>\n",
       "    <tr>\n",
       "      <th>4</th>\n",
       "      <td>0.6418</td>\n",
       "      <td>1.0234</td>\n",
       "      <td>7.0427</td>\n",
       "      <td>1.0</td>\n",
       "    </tr>\n",
       "  </tbody>\n",
       "</table>\n",
       "</div>"
      ]
     },
     "execution_count": 15,
     "metadata": {},
     "output_type": "execute_result"
    }
   ],
   "execution_count": 15
  },
  {
   "metadata": {
    "ExecuteTime": {
     "end_time": "2025-08-13T15:12:12.654770Z",
     "start_time": "2025-08-13T15:12:12.652546Z"
    }
   },
   "cell_type": "code",
   "source": [
    "# Função de ativação\n",
    "def activation_func(u: float) -> int:\n",
    "    return 1 if u >= 0 else -1"
   ],
   "id": "61c3c5852ba01b94",
   "outputs": [],
   "execution_count": 16
  },
  {
   "metadata": {
    "ExecuteTime": {
     "end_time": "2025-08-13T15:12:21.815094Z",
     "start_time": "2025-08-13T15:12:20.273193Z"
    }
   },
   "cell_type": "code",
   "source": [
    "neurons = []\n",
    "for _ in range(5):\n",
    "    w = rng.random(4)\n",
    "    neuron = Perceptron(w, activation_func)\n",
    "    neuron.train(dataframe)\n",
    "    neurons.append(neuron)"
   ],
   "id": "59ab63432f5704d9",
   "outputs": [
    {
     "name": "stdout",
     "output_type": "stream",
     "text": [
      "Peso inicial: [0.77395605 0.43887844 0.85859792 0.69736803]\n",
      "Treinamento concluído na época: 425\n",
      "Peso final: [-3.06604395  1.55241044  2.45939392 -0.73049397]\n",
      "Peso inicial: [0.09417735 0.97562235 0.7611397  0.78606431]\n",
      "Treinamento concluído na época: 437\n",
      "Peso final: [-3.14582265  1.59203235  2.5394837  -0.74852969]\n",
      "Peso inicial: [0.12811363 0.45038594 0.37079802 0.92676499]\n",
      "Treinamento concluído na época: 439\n",
      "Peso final: [-3.15188637  1.59407594  2.53302002 -0.74927901]\n",
      "Peso inicial: [0.64386512 0.82276161 0.4434142  0.22723872]\n",
      "Treinamento concluído na época: 395\n",
      "Peso final: [-3.07613488  1.53326561  2.4679982  -0.73121128]\n",
      "Peso inicial: [0.55458479 0.06381726 0.82763117 0.6316644 ]\n",
      "Treinamento concluído na época: 418\n",
      "Peso final: [-3.06541521  1.55375726  2.45920317 -0.7303736 ]\n"
     ]
    }
   ],
   "execution_count": 19
  },
  {
   "metadata": {},
   "cell_type": "markdown",
   "source": [
    "### Resultado dos treinamentos do Perceptron\n",
    "| Treinamento | $w_{0}$ (inicial) | $w_{1}$ (inicial) | $w_{2}$ (inicial) | $w_{3}$ (inicial) | $w_{0}$ (final) | $w_{1}$ (final) | $w_{2}$ (final) | $w_{3}$ (final) | Épocas |\n",
    "| :--- | :--- | :--- | :--- | :--- | :--- | :--- | :--- | :--- | :--- |\n",
    "| 1 | 0.7739 | 0.4388 | 0.8585 | 0.6973 | -3.0660 | 1.5524 | 2.4593 | -0.7304 | 425 |\n",
    "| 2 | 0.0941 | 0.9756 | 0.7611 | 0.7860 | -3.1458 | 1.5920 | 2.5394 | -0.7485 | 437 |\n",
    "| 3 | 0.1281 | 0.4503 | 0.3707 | 0.9267 | -3.1518 | 1.5940 | 2.5330 | -0.7492 | 439 |\n",
    "| 4 | 0.6438 | 0.8227 | 0.4434 | 0.2272 | -3.0761 | 1.5332 | 2.4679 | -0.7312 | 395 |\n",
    "| 5 | 0.5545 | 0.0638 | 0.8276 | 0.6316 | -3.0654 | 1.5537 | 2.4592 | -0.7303 | 418 |"
   ],
   "id": "7c059b5f1f7865e4"
  },
  {
   "metadata": {
    "ExecuteTime": {
     "end_time": "2025-08-13T15:35:03.533124Z",
     "start_time": "2025-08-13T15:35:03.519996Z"
    }
   },
   "cell_type": "code",
   "source": [
    "samples = pd.read_csv(\"../data/amostras_oleo.csv\", sep=',')\n",
    "\n",
    "for i, row in samples.iterrows():\n",
    "    inputs = np.array([-1, row.x1, row.x2, row.x3])\n",
    "\n",
    "    predicts = []\n",
    "    for neuron in neurons:\n",
    "        predicts.append(neuron.predict(inputs))\n",
    "\n",
    "    for j in range(5):\n",
    "        samples.loc[i, f\"y_T{j + 1}\"] = predicts[j]\n",
    "\n",
    "samples.head()\n",
    "samples.to_csv(\"../data/amostras_oleo_classificacao.csv\", sep=',')\n"
   ],
   "id": "923a085f2f22533a",
   "outputs": [],
   "execution_count": 38
  },
  {
   "metadata": {},
   "cell_type": "markdown",
   "source": [
    "### Amostras de óleo para validar o Perceptron\n",
    "| Amostra | x1 | x2 | x3 | y_T1 | y_T2 | y_T3 | y_T4 | y_T5 |\n",
    "| :--- | :--- | :--- | :--- | :--- | :--- | :--- | :--- | :--- |\n",
    "| 1 | -0.3665 | 0.0620 | 5.9891 | -1.0 | -1.0 | -1.0 | -1.0 | -1.0 |\n",
    "| 2 | -0.7842 | 1.1267 | 5.5912 | 1.0 | 1.0 | 1.0 | 1.0 | 1.0 |\n",
    "| 3 | 0.3012 | 0.5611 | 5.8234 | 1.0 | 1.0 | 1.0 | 1.0 | 1.0 |\n",
    "| 4 | 0.7757 | 1.0648 | 8.0677 | 1.0 | 1.0 | 1.0 | 1.0 | 1.0 |\n",
    "| 5 | 0.1570 | 0.8028 | 6.3040 | 1.0 | 1.0 | 1.0 | 1.0 | 1.0 |\n",
    "| 6 | -0.7014 | 1.0316 | 3.6005 | 1.0 | 1.0 | 1.0 | 1.0 | 1.0 |\n",
    "| 7 | 0.3748 | 0.1536 | 6.1537 | -1.0 | -1.0 | -1.0 | -1.0 | -1.0 |\n",
    "| 8 | -0.6920 | 0.9404 | 4.4058 | 1.0 | 1.0 | 1.0 | 1.0 | 1.0 |\n",
    "| 9 | -1.3970 | 0.7141 | 4.9263 | -1.0 | -1.0 | -1.0 | -1.0 | -1.0 |\n",
    "| 10 | -1.8842 | -0.2805 | 1.2548 | -1.0 | -1.0 | -1.0 | -1.0 | -1.0 |"
   ],
   "id": "e30d1fa6a7a82d2c"
  }
 ],
 "metadata": {
  "kernelspec": {
   "display_name": "Python 3",
   "language": "python",
   "name": "python3"
  },
  "language_info": {
   "codemirror_mode": {
    "name": "ipython",
    "version": 2
   },
   "file_extension": ".py",
   "mimetype": "text/x-python",
   "name": "python",
   "nbconvert_exporter": "python",
   "pygments_lexer": "ipython2",
   "version": "2.7.6"
  }
 },
 "nbformat": 4,
 "nbformat_minor": 5
}
