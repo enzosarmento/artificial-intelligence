{
 "cells": [
  {
   "metadata": {},
   "cell_type": "markdown",
   "source": "### 3.5 - Exercícios\n",
   "id": "2d2cbd5c7c1b5063"
  },
  {
   "metadata": {},
   "cell_type": "markdown",
   "source": [
    "1) Explique como se processa a regra de Hebb no contexto do algorit-\n",
    "mo de aprendizado do Perceptron.\n",
    "\n",
    "    R:"
   ],
   "id": "90379ae0557ba4c1"
  },
  {
   "metadata": {},
   "cell_type": "markdown",
   "source": "### 3.6 - Projeto Prático",
   "id": "1462b0a4b5e953ef"
  }
 ],
 "metadata": {
  "kernelspec": {
   "display_name": "Python 3",
   "language": "python",
   "name": "python3"
  },
  "language_info": {
   "codemirror_mode": {
    "name": "ipython",
    "version": 2
   },
   "file_extension": ".py",
   "mimetype": "text/x-python",
   "name": "python",
   "nbconvert_exporter": "python",
   "pygments_lexer": "ipython2",
   "version": "2.7.6"
  }
 },
 "nbformat": 4,
 "nbformat_minor": 5
}
